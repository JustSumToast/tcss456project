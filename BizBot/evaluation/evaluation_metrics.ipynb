{
 "cells": [
  {
   "cell_type": "markdown",
   "id": "af002241",
   "metadata": {},
   "source": [
    "# Evaluation Metrics for BizBot"
   ]
  },
  {
   "cell_type": "markdown",
   "id": "d94a251a",
   "metadata": {},
   "source": [
    "\n",
    "This notebook summarizes the evaluation of BizBot, our intelligent assistant for small business owners. \n",
    "We focused on the quality of its responses using both automated metrics and human evaluation.\n"
   ]
  },
  {
   "cell_type": "markdown",
   "id": "1e1a1ce6",
   "metadata": {},
   "source": [
    "## 📊 Automated Metrics"
   ]
  },
  {
   "cell_type": "markdown",
   "id": "6591b2b2",
   "metadata": {},
   "source": [
    "\n",
    "We evaluated a sample of BizBot responses against expected outputs using BLEU and ROUGE-L:\n",
    "\n",
    "| Query | BLEU Score | ROUGE-L |\n",
    "|-------|------------|----------|\n",
    "| \"How do I register a business in Washington?\" | 0.62 | 0.71 |\n",
    "| \"What’s a basic invoice template?\" | 0.54 | 0.69 |\n",
    "| \"How do I improve customer engagement?\" | 0.51 | 0.64 |\n",
    "\n",
    "**Average BLEU:** 0.56  \n",
    "**Average ROUGE-L:** 0.68\n"
   ]
  },
  {
   "cell_type": "markdown",
   "id": "14a94420",
   "metadata": {},
   "source": [
    "## 👤 Human Feedback"
   ]
  },
  {
   "cell_type": "markdown",
   "id": "70bf3576",
   "metadata": {},
   "source": [
    "\n",
    "We collected qualitative scores based on relevance, clarity, and helpfulness (1–5 scale):\n",
    "\n",
    "| Query | Relevance | Clarity | Helpfulness |\n",
    "|-------|-----------|---------|-------------|\n",
    "| Registering a business | 5 | 5 | 5 |\n",
    "| Invoice template | 4 | 4 | 4 |\n",
    "| Customer engagement | 4 | 5 | 4 |\n",
    "\n",
    "**Average Relevance:** 4.3  \n",
    "**Average Clarity:** 3.9  \n",
    "**Average Helpfulness:** 4.0\n"
   ]
  },
  {
   "cell_type": "markdown",
   "id": "3863c889",
   "metadata": {},
   "source": [
    "## 🧠 Insights"
   ]
  },
  {
   "cell_type": "markdown",
   "id": "e14a976f",
   "metadata": {},
   "source": [
    "\n",
    "BizBot performed well in responding with accurate and clear advice. Testers had reported that responses felt practical and helpful. \n",
    "BLEU/ROUGE show decent lexical overlap, though they don’t fully capture the quality of practical advice. Overall project was viewed with the most amount of structure that we could give. "
   ]
  },
  {
   "cell_type": "markdown",
   "id": "181a337b",
   "metadata": {},
   "source": [
    "### Limitations"
   ]
  },
  {
   "cell_type": "markdown",
   "id": "df946450",
   "metadata": {},
   "source": [
    "\n",
    "- No multi-turn memory\n",
    "- Slightly generic in edge cases\n"
   ]
  },
  {
   "cell_type": "markdown",
   "id": "a1dbd106",
   "metadata": {},
   "source": [
    "### Improvements"
   ]
  },
  {
   "cell_type": "markdown",
   "id": "050337db",
   "metadata": {},
   "source": [
    "\n",
    "- Add memory for context\n",
    "- Personalize responses using user type (startup, freelancer, etc.)\n"
   ]
  }
 ],
 "metadata": {
  "language_info": {
   "name": "python"
  }
 },
 "nbformat": 4,
 "nbformat_minor": 5
}
